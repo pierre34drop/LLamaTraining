{
  "nbformat": 4,
  "nbformat_minor": 0,
  "metadata": {
    "colab": {
      "provenance": [],
      "authorship_tag": "ABX9TyOQwlxyg6tM2On935AJgTtH",
      "include_colab_link": true
    },
    "kernelspec": {
      "name": "python3",
      "display_name": "Python 3"
    },
    "language_info": {
      "name": "python"
    }
  },
  "cells": [
    {
      "cell_type": "markdown",
      "metadata": {
        "id": "view-in-github",
        "colab_type": "text"
      },
      "source": [
        "<a href=\"https://colab.research.google.com/github/pierre34drop/LLamaTraining/blob/main/LLaMA3_1Quantization.ipynb\" target=\"_parent\"><img src=\"https://colab.research.google.com/assets/colab-badge.svg\" alt=\"Open In Colab\"/></a>"
      ]
    },
    {
      "cell_type": "markdown",
      "source": [
        "***Mount a google drive***"
      ],
      "metadata": {
        "id": "fxcUre3nbDi_"
      }
    },
    {
      "cell_type": "code",
      "execution_count": 1,
      "metadata": {
        "colab": {
          "base_uri": "https://localhost:8080/"
        },
        "id": "U_sYs0UAVu2Q",
        "outputId": "8b28b6f7-51d6-4f79-b33c-fe785bfd287f"
      },
      "outputs": [
        {
          "output_type": "stream",
          "name": "stdout",
          "text": [
            "Mounted at /content/drive\n"
          ]
        }
      ],
      "source": [
        "from google.colab import drive\n",
        "drive.mount('/content/drive')\n"
      ]
    },
    {
      "cell_type": "markdown",
      "source": [],
      "metadata": {
        "id": "23EEa1iBbzS9"
      }
    },
    {
      "cell_type": "markdown",
      "source": [
        "***Setup folders***"
      ],
      "metadata": {
        "id": "tPZXytQQbX6T"
      }
    },
    {
      "cell_type": "code",
      "source": [
        "!mkdir -p /content/drive/MyDrive/llama_models\n",
        "!mkdir -p /content/drive/MyDrive/datasets\n"
      ],
      "metadata": {
        "id": "BqY_us5oWvtu"
      },
      "execution_count": 4,
      "outputs": []
    },
    {
      "cell_type": "code",
      "source": [],
      "metadata": {
        "id": "4M0TWtTMbOpK"
      },
      "execution_count": null,
      "outputs": []
    },
    {
      "cell_type": "code",
      "source": [],
      "metadata": {
        "id": "rz2cw523bNJS"
      },
      "execution_count": null,
      "outputs": []
    },
    {
      "cell_type": "markdown",
      "source": [],
      "metadata": {
        "id": "LZ1VGFkQa7mQ"
      }
    },
    {
      "cell_type": "code",
      "source": [],
      "metadata": {
        "id": "iLkLjap7apv7"
      },
      "execution_count": null,
      "outputs": []
    }
  ]
}