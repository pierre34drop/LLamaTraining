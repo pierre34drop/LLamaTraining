{
  "nbformat": 4,
  "nbformat_minor": 0,
  "metadata": {
    "colab": {
      "provenance": [],
      "authorship_tag": "ABX9TyN0I0E6ZMyT8nXB6zVtvFQ5",
      "include_colab_link": true
    },
    "kernelspec": {
      "name": "python3",
      "display_name": "Python 3"
    },
    "language_info": {
      "name": "python"
    }
  },
  "cells": [
    {
      "cell_type": "markdown",
      "metadata": {
        "id": "view-in-github",
        "colab_type": "text"
      },
      "source": [
        "<a href=\"https://colab.research.google.com/github/pierre34drop/LLamaTraining/blob/main/LLaMA3_1Quantization.ipynb\" target=\"_parent\"><img src=\"https://colab.research.google.com/assets/colab-badge.svg\" alt=\"Open In Colab\"/></a>"
      ]
    },
    {
      "cell_type": "markdown",
      "source": [
        "***Mount a google drive***"
      ],
      "metadata": {
        "id": "fxcUre3nbDi_"
      }
    },
    {
      "cell_type": "code",
      "execution_count": 1,
      "metadata": {
        "colab": {
          "base_uri": "https://localhost:8080/"
        },
        "id": "U_sYs0UAVu2Q",
        "outputId": "8b28b6f7-51d6-4f79-b33c-fe785bfd287f"
      },
      "outputs": [
        {
          "output_type": "stream",
          "name": "stdout",
          "text": [
            "Mounted at /content/drive\n"
          ]
        }
      ],
      "source": [
        "from google.colab import drive\n",
        "drive.mount('/content/drive')\n"
      ]
    },
    {
      "cell_type": "markdown",
      "source": [
        "***Setup folders***"
      ],
      "metadata": {
        "id": "tPZXytQQbX6T"
      }
    },
    {
      "cell_type": "code",
      "source": [
        "!mkdir -p /content/drive/MyDrive/llama_models\n",
        "!mkdir -p /content/drive/MyDrive/datasets\n"
      ],
      "metadata": {
        "id": "BqY_us5oWvtu"
      },
      "execution_count": 4,
      "outputs": []
    },
    {
      "cell_type": "markdown",
      "source": [],
      "metadata": {
        "id": "23EEa1iBbzS9"
      }
    },
    {
      "cell_type": "code",
      "source": [
        "requirements = \"\"\"\n",
        "torch==1.10.0\n",
        "transformers==4.15.0\n",
        "datasets==1.14.0\n",
        "accelerate==0.10.0\n",
        "tensorboard==2.7.0\n",
        "scipy==1.7.1\n",
        "numpy==1.21.2\n",
        "\"\"\"\n",
        "\n",
        "# Write to requirements.txt\n",
        "with open('requirements.txt', 'w') as f:\n",
        "    f.write(requirements)\n"
      ],
      "metadata": {
        "id": "rz2cw523bNJS"
      },
      "execution_count": 7,
      "outputs": []
    },
    {
      "cell_type": "markdown",
      "source": [
        "***Manage requirements file***"
      ],
      "metadata": {
        "id": "iZ76nhVAg9VA"
      }
    },
    {
      "cell_type": "markdown",
      "source": [],
      "metadata": {
        "id": "LZ1VGFkQa7mQ"
      }
    },
    {
      "cell_type": "code",
      "source": [],
      "metadata": {
        "id": "iLkLjap7apv7"
      },
      "execution_count": null,
      "outputs": []
    }
  ]
}